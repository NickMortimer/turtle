{
 "cells": [
  {
   "cell_type": "code",
   "execution_count": 13,
   "metadata": {},
   "outputs": [],
   "source": [
    "import pandas as pd\n",
    "import numpy as np\n",
    "import matplotlib.pyplot as plt\n",
    "from pyproj import Proj \n",
    "import os\n",
    "import shutil\n",
    "import PIL\n",
    "import xarray as xr\n",
    "import glob\n",
    "from functools import partial\n",
    "pd.options.display.max_columns = None\n",
    "pd.options.display.max_rows = None"
   ]
  },
  {
   "cell_type": "code",
   "execution_count": 14,
   "metadata": {},
   "outputs": [],
   "source": [
    "sourcepath = '/home/mor582/seagrass/TH'"
   ]
  },
  {
   "cell_type": "code",
   "execution_count": 15,
   "metadata": {},
   "outputs": [],
   "source": [
    "def get_longitude(item):\n",
    "    longitude =float(item[0]) + float(item[2][0:-1])/60 + float(item[3][0:-1])/3600\n",
    "    return (longitude)\n",
    "\n",
    "def convert_wgs_to_utm(lon, lat):\n",
    "    utm_band = str((np.floor((lon + 180) / 6 ) % 60) + 1)\n",
    "    if len(utm_band) == 1:\n",
    "        utm_band = '0'+utm_band\n",
    "    if lat >= 0:\n",
    "        epsg_code = '326' + utm_band\n",
    "    else:\n",
    "        epsg_code = '327' + utm_band\n",
    "    return epsg_code\n",
    "\n",
    "\n",
    "def process_transect(leg):\n",
    "    leg = leg.copy()\n",
    "    leg['GPSTime'] = leg.index\n",
    "    leg['GPSDistance'] =((leg['Northing'].diff()**2 + leg['Easting'].diff()**2)**0.5)\n",
    "    leg['GpsSpeed']=(((leg['Northing'].diff()**2 + leg['Easting'].diff()**2)**0.5)/leg.GPSTime.diff().dt.total_seconds())\n",
    "    leg['timedelta'] = leg.GPSTime.diff().dt.total_seconds()\n",
    "    leg['GPSExcessTime'] = ((leg['GpsSpeed']/leg['DroneSpeed']) * leg['timedelta'])-leg['timedelta']\n",
    "    leg['ImageTime'] = leg.index\n",
    "    leg['ImageInterval']=leg['ImageTime'].diff().dt.total_seconds()\n",
    "    leg.loc[leg['ImageInterval']==2,'ImageTime'] =leg.loc[leg['ImageInterval']==2,'ImageTime'] + pd.to_timedelta('500L')\n",
    "    leg['ImageInterval']=leg['ImageTime'].diff().dt.total_seconds()\n",
    "    for i in range(1,len(leg)):\n",
    "        leg.iloc[i,leg.columns.get_loc('GPSTime')] = leg.iloc[i,leg.columns.get_loc('GPSTime')] + pd.to_timedelta(leg.iloc[i,leg.columns.get_loc('GPSExcessTime')],unit='s')\n",
    "        leg['timedelta'] = leg.GPSTime.diff().dt.total_seconds()\n",
    "        leg['GpsSpeed']=(((leg['Northing'].diff()**2 + leg['Easting'].diff()**2)**0.5)/leg.GPSTime.diff().dt.total_seconds())\n",
    "        leg['GPSExcessTime'] = ((leg['GpsSpeed']/leg['DroneSpeed']) * leg['timedelta'])-leg['timedelta']\n",
    "    gpstime=leg.GPSTime.astype(int).astype(\"float\")\n",
    "    imagetime= leg.ImageTime.astype('int64').astype('float')\n",
    "    leg['ImageNorthing'] =np.interp(imagetime,gpstime,leg.Northing)\n",
    "    leg['ImageEasting'] = np.interp(imagetime,gpstime,leg.Easting)\n",
    "    leg['ImageDistance'] =((leg['ImageNorthing'].diff()**2 + leg['ImageEasting'].diff()**2)**0.5)\n",
    "    leg['ImageSpeed'] =leg['ImageDistance']/leg['ImageInterval']\n",
    "    return leg"
   ]
  },
  {
   "cell_type": "code",
   "execution_count": 37,
   "metadata": {},
   "outputs": [],
   "source": [
    "def correct_flight(file):\n",
    "    output = file.replace('_RENAME','_IMG')\n",
    "    if not os.path.exists(output):\n",
    "        data =pd.read_csv(file,index_col='Time',parse_dates=['Time','DateTimeOriginal'])\n",
    "        data.sort_index(inplace=True)\n",
    "        data['Hem']=np.nan\n",
    "        data.loc[data['GPSLatitudeRef']=='North','Hem']=1\n",
    "        data.loc[data['GPSLatitudeRef']=='South','Hem']=-1\n",
    "        # Drop all pictures with No GPS\n",
    "        data = data[(~data['GPSLongitude'].isna() | ~data['GPSLatitude'].isna())]\n",
    "        data['Longitude'] = np.nan\n",
    "        data['Latitude'] = np.nan\n",
    "        data['Longitude']=data['GPSLongitude'].str.split(' ',expand=True).apply(get_longitude,axis=1)\n",
    "        data['Latitude']=data['GPSLatitude'].str.split(' ',expand=True).apply(get_longitude,axis=1) * data['Hem']\n",
    "        utmcode =convert_wgs_to_utm(data['Longitude'][0],data['Latitude'][0])\n",
    "        utmproj =Proj(init='epsg:{0:1.5}'.format(utmcode),datum='WGS84',ellps='WGS84')\n",
    "        e,n =utmproj(data['Longitude'].values,data['Latitude'].values)\n",
    "        data['Easting']=e\n",
    "        data['Northing']=n\n",
    "        data['Crs'] = 'epsg:{0:1.5}'.format(utmcode)\n",
    "\n",
    "        data['LocalTime']=data.index\n",
    "        data['Interval']=pd.to_datetime(data.LocalTime).diff().dt.total_seconds()\n",
    "\n",
    "\n",
    "        # data.loc[data['Interval']==4,'LocalTime'] =data.loc[data['Interval']==4,'LocalTime'] - pd.to_timedelta('500L')\n",
    "        # data['Interval']=pd.to_datetime(data.LocalTime).diff().dt.total_seconds()\n",
    "        data['GpsDist']=(data['Northing'].diff()**2 + data['Easting'].diff()**2)**0.5\n",
    "        data['GpsSpeed']=((data['Northing'].diff()**2 + data['Easting'].diff()**2)**0.5)/data['Interval']\n",
    "        data['DroneSpeed'] = (data['SpeedX']**2+data['SpeedY']**2)**0.5\n",
    "\n",
    "        data['Leg'] =0\n",
    "        data.loc[data['Interval']>8,'Leg'] =1\n",
    "        data['Leg'] = data['Leg'].cumsum()\n",
    "        data['Counter'] = 1\n",
    "        data['Counter'] = data['Counter'].cumsum()\n",
    "        data.index[data.index.duplicated()]+pd.to_timedelta('500L')\n",
    "        data =data.sort_values('SourceFile')\n",
    "        idx =data.index.duplicated('last')\n",
    "        data =data[~idx]\n",
    "        g = data.groupby('Leg')\n",
    "        corrected =pd.concat([process_transect(leg) for name,leg in g])\n",
    "        fig =plt.figure()\n",
    "        ax = plt.subplot()\n",
    "        corrected.plot(ax=ax,y='GpsSpeed',ylim=[0,12])\n",
    "        corrected.plot(ax=ax,y='Interval',ylim=[0,12])\n",
    "        corrected.plot(ax=ax,y='DroneSpeed',ylim=[0,12])\n",
    "        corrected.plot(ax=ax,y='ImageDistance',ylim=[0,30])\n",
    "        corrected.plot(ax=ax,y='ImageSpeed',ylim=[0,35])\n",
    "        corrected =corrected.rename({'Northing':'OldNorthing','Easting':'OldEasting'})\n",
    "        corrected['Northing']= corrected['ImageNorthing']\n",
    "        corrected['Easting']= corrected['ImageEasting']\n",
    "        corrected.index.name='Time'\n",
    "        corrected.to_csv(output,index=True)"
   ]
  },
  {
   "cell_type": "code",
   "execution_count": 41,
   "metadata": {},
   "outputs": [
    {
     "name": "stdout",
     "output_type": "stream",
     "text": [
      "/home/mor582/seagrass/TH/KMK02_001/DJIP4_TH_KMK02_001_RENAME.csv\n",
      "/home/mor582/seagrass/TH/KMK01_001/DJIP4_TH_KMK01_001_RENAME.csv\n"
     ]
    }
   ],
   "source": [
    "processfiles = glob.glob(sourcepath+'/**/*_RENAME.csv',recursive=True)\n",
    "for pfile in processfiles:\n",
    "    print(pfile)\n",
    "    correct_flight(pfile)\n"
   ]
  },
  {
   "cell_type": "code",
   "execution_count": 40,
   "metadata": {},
   "outputs": [
    {
     "data": {
      "text/plain": [
       "['/home/mor582/seagrass/TH/KMK02_001/DJIP4_TH_KMK02_001_RENAME.csv',\n",
       " '/home/mor582/seagrass/TH/KMK01_001/DJIP4_TH_KMK01_001_RENAME.csv']"
      ]
     },
     "execution_count": 40,
     "metadata": {},
     "output_type": "execute_result"
    }
   ],
   "source": [
    "processfiles"
   ]
  },
  {
   "cell_type": "code",
   "execution_count": null,
   "metadata": {},
   "outputs": [],
   "source": []
  }
 ],
 "metadata": {
  "kernelspec": {
   "display_name": "Python 3",
   "language": "python",
   "name": "python3"
  },
  "language_info": {
   "codemirror_mode": {
    "name": "ipython",
    "version": 3
   },
   "file_extension": ".py",
   "mimetype": "text/x-python",
   "name": "python",
   "nbconvert_exporter": "python",
   "pygments_lexer": "ipython3",
   "version": "3.8.3"
  }
 },
 "nbformat": 4,
 "nbformat_minor": 4
}
